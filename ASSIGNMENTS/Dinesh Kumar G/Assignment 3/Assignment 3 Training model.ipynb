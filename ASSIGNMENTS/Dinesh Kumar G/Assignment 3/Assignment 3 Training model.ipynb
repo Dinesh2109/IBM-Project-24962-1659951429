{
 "cells": [
  {
   "cell_type": "code",
   "execution_count": 10,
   "metadata": {
    "id": "leb16xLl6UZR",
    "scrolled": true
   },
   "outputs": [],
   "source": [
    "from tensorflow.keras.preprocessing.image import ImageDataGenerator\n"
   ]
  },
  {
   "cell_type": "code",
   "execution_count": 11,
   "metadata": {
    "id": "lM_Y4H_a6fGH"
   },
   "outputs": [],
   "source": [
    "train_datagen=ImageDataGenerator(rescale=1./255,shear_range=0.2,\n",
    "                                 zoom_range=0.2,horizontal_flip=True)\n",
    "test_datagen=ImageDataGenerator(rescale=1./255)"
   ]
  },
  {
   "cell_type": "code",
   "execution_count": 12,
   "metadata": {
    "colab": {
     "base_uri": "https://localhost:8080/"
    },
    "id": "emcSFZNf6oLb",
    "outputId": "fdd803fd-915d-4842-bafe-aa9b78dea4bb"
   },
   "outputs": [
    {
     "name": "stdout",
     "output_type": "stream",
     "text": [
      "Found 4317 images belonging to 5 classes.\n"
     ]
    }
   ],
   "source": [
    "xtrain=train_datagen.flow_from_directory(r'Flowers-Dataset/flowers/train',\n",
    "                                         target_size=(64, 64),\n",
    "                                          batch_size=100,                                           \n",
    "                                          class_mode='categorical'\n",
    "                                         )"
   ]
  },
  {
   "cell_type": "code",
   "execution_count": 13,
   "metadata": {
    "colab": {
     "base_uri": "https://localhost:8080/"
    },
    "id": "F-maVOCo6yCE",
    "outputId": "bc86a1ed-0be8-44c3-a14e-fb0f18df0f0a"
   },
   "outputs": [
    {
     "name": "stdout",
     "output_type": "stream",
     "text": [
      "Found 25 images belonging to 5 classes.\n"
     ]
    }
   ],
   "source": [
    "xtest=test_datagen.flow_from_directory(r'Flowers-Dataset/flowers/test',\n",
    "                                          target_size=(64, 64),\n",
    "                                          batch_size=100,                                           \n",
    "                                          class_mode='categorical')"
   ]
  },
  {
   "cell_type": "code",
   "execution_count": 14,
   "metadata": {
    "id": "HNTQ9uwS67LB"
   },
   "outputs": [],
   "source": [
    "from tensorflow.keras.models import Sequential\n",
    "from tensorflow.keras.layers import Convolution2D,MaxPool2D,Flatten,Dense"
   ]
  },
  {
   "cell_type": "code",
   "execution_count": 15,
   "metadata": {
    "id": "RF34Fjk37Bih"
   },
   "outputs": [],
   "source": [
    "model = Sequential()\n",
    "model.add(Convolution2D(32,(3,3),activation='relu',input_shape=(64,64,3))) \n",
    "model.add(MaxPool2D(pool_size=(2,2))) \n",
    "model.add(Flatten()) \n",
    "model.add(Dense(300,activation='relu')) \n",
    "model.add(Dense(150,activation='relu')) \n",
    "model.add(Dense(5,activation='softmax'))"
   ]
  },
  {
   "cell_type": "code",
   "execution_count": 16,
   "metadata": {
    "id": "_HuuemWP7Ewg"
   },
   "outputs": [],
   "source": [
    "model.compile(optimizer='adam',loss='categorical_crossentropy',metrics=['accuracy'])"
   ]
  },
  {
   "cell_type": "code",
   "execution_count": 18,
   "metadata": {
    "id": "fhbLviu3IL99"
   },
   "outputs": [
    {
     "name": "stdout",
     "output_type": "stream",
     "text": [
      "Epoch 1/30\n",
      "44/44 [==============================] - 28s 641ms/step - loss: 0.8115 - accuracy: 0.6901 - val_loss: 0.7656 - val_accuracy: 0.7600\n",
      "Epoch 2/30\n",
      "44/44 [==============================] - 11s 240ms/step - loss: 0.7665 - accuracy: 0.7130 - val_loss: 0.8399 - val_accuracy: 0.5600\n",
      "Epoch 3/30\n",
      "44/44 [==============================] - 11s 238ms/step - loss: 0.7572 - accuracy: 0.7197 - val_loss: 0.5846 - val_accuracy: 0.7600\n",
      "Epoch 4/30\n",
      "44/44 [==============================] - 10s 234ms/step - loss: 0.7342 - accuracy: 0.7216 - val_loss: 0.5868 - val_accuracy: 0.6800\n",
      "Epoch 5/30\n",
      "44/44 [==============================] - 10s 231ms/step - loss: 0.6810 - accuracy: 0.7464 - val_loss: 0.6204 - val_accuracy: 0.7200\n",
      "Epoch 6/30\n",
      "44/44 [==============================] - 16s 376ms/step - loss: 0.6711 - accuracy: 0.7487 - val_loss: 0.5160 - val_accuracy: 0.8400\n",
      "Epoch 7/30\n",
      "44/44 [==============================] - 16s 359ms/step - loss: 0.6579 - accuracy: 0.7612 - val_loss: 0.8369 - val_accuracy: 0.6400\n",
      "Epoch 8/30\n",
      "44/44 [==============================] - 10s 225ms/step - loss: 0.6212 - accuracy: 0.7644 - val_loss: 0.9339 - val_accuracy: 0.6800\n",
      "Epoch 9/30\n",
      "44/44 [==============================] - 10s 221ms/step - loss: 0.6190 - accuracy: 0.7702 - val_loss: 0.8992 - val_accuracy: 0.6400\n",
      "Epoch 10/30\n",
      "44/44 [==============================] - 10s 217ms/step - loss: 0.5842 - accuracy: 0.7853 - val_loss: 0.7437 - val_accuracy: 0.7600\n",
      "Epoch 11/30\n",
      "44/44 [==============================] - 10s 226ms/step - loss: 0.5479 - accuracy: 0.7980 - val_loss: 0.6733 - val_accuracy: 0.8000\n",
      "Epoch 12/30\n",
      "44/44 [==============================] - 10s 215ms/step - loss: 0.5660 - accuracy: 0.7922 - val_loss: 0.4999 - val_accuracy: 0.8000\n",
      "Epoch 13/30\n",
      "44/44 [==============================] - 9s 215ms/step - loss: 0.5061 - accuracy: 0.8168 - val_loss: 0.7342 - val_accuracy: 0.7200\n",
      "Epoch 14/30\n",
      "44/44 [==============================] - 9s 214ms/step - loss: 0.4951 - accuracy: 0.8230 - val_loss: 0.5602 - val_accuracy: 0.7600\n",
      "Epoch 15/30\n",
      "44/44 [==============================] - 9s 214ms/step - loss: 0.4674 - accuracy: 0.8281 - val_loss: 0.5355 - val_accuracy: 0.7200\n",
      "Epoch 16/30\n",
      "44/44 [==============================] - 9s 215ms/step - loss: 0.4401 - accuracy: 0.8425 - val_loss: 0.4524 - val_accuracy: 0.8000\n",
      "Epoch 17/30\n",
      "44/44 [==============================] - 9s 215ms/step - loss: 0.4336 - accuracy: 0.8487 - val_loss: 0.3037 - val_accuracy: 0.8400\n",
      "Epoch 18/30\n",
      "44/44 [==============================] - 9s 214ms/step - loss: 0.3812 - accuracy: 0.8654 - val_loss: 0.3437 - val_accuracy: 0.8400\n",
      "Epoch 19/30\n",
      "44/44 [==============================] - 9s 214ms/step - loss: 0.3820 - accuracy: 0.8582 - val_loss: 0.3804 - val_accuracy: 0.8400\n",
      "Epoch 20/30\n",
      "44/44 [==============================] - 10s 215ms/step - loss: 0.3604 - accuracy: 0.8700 - val_loss: 0.1909 - val_accuracy: 0.9200\n",
      "Epoch 21/30\n",
      "44/44 [==============================] - 9s 214ms/step - loss: 0.3328 - accuracy: 0.8768 - val_loss: 0.3491 - val_accuracy: 0.8000\n",
      "Epoch 22/30\n",
      "44/44 [==============================] - 9s 213ms/step - loss: 0.3316 - accuracy: 0.8777 - val_loss: 0.4248 - val_accuracy: 0.8400\n",
      "Epoch 23/30\n",
      "44/44 [==============================] - 9s 214ms/step - loss: 0.2974 - accuracy: 0.8992 - val_loss: 0.1796 - val_accuracy: 0.9600\n",
      "Epoch 24/30\n",
      "44/44 [==============================] - 10s 216ms/step - loss: 0.2914 - accuracy: 0.8983 - val_loss: 0.2745 - val_accuracy: 0.8800\n",
      "Epoch 25/30\n",
      "44/44 [==============================] - 10s 219ms/step - loss: 0.2659 - accuracy: 0.9134 - val_loss: 0.2228 - val_accuracy: 0.8800\n",
      "Epoch 26/30\n",
      "44/44 [==============================] - 9s 213ms/step - loss: 0.2254 - accuracy: 0.9298 - val_loss: 0.1067 - val_accuracy: 0.9600\n",
      "Epoch 27/30\n",
      "44/44 [==============================] - 9s 212ms/step - loss: 0.2788 - accuracy: 0.8978 - val_loss: 0.4581 - val_accuracy: 0.8000\n",
      "Epoch 28/30\n",
      "44/44 [==============================] - 9s 213ms/step - loss: 0.2257 - accuracy: 0.9261 - val_loss: 0.1953 - val_accuracy: 0.9600\n",
      "Epoch 29/30\n",
      "44/44 [==============================] - 9s 213ms/step - loss: 0.2347 - accuracy: 0.9173 - val_loss: 0.1615 - val_accuracy: 0.9600\n",
      "Epoch 30/30\n",
      "44/44 [==============================] - 9s 213ms/step - loss: 0.2101 - accuracy: 0.9326 - val_loss: 0.6355 - val_accuracy: 0.8400\n"
     ]
    },
    {
     "data": {
      "text/plain": [
       "<keras.callbacks.History at 0x232c98f2830>"
      ]
     },
     "execution_count": 18,
     "metadata": {},
     "output_type": "execute_result"
    }
   ],
   "source": [
    "model.fit(xtrain,\n",
    "                    steps_per_epoch=len(xtrain),\n",
    "                    epochs=30,\n",
    "                    validation_data=xtest,\n",
    "                    validation_steps=len(xtest))"
   ]
  },
  {
   "cell_type": "code",
   "execution_count": null,
   "metadata": {},
   "outputs": [],
   "source": [
    "model.save('flower.h5')\n",
    "model_json=model.to_json()\n",
    "with open(\"model-bw.json\",\"w\") as json_file:json_file.write(model_json)"
   ]
  }
 ],
 "metadata": {
  "colab": {
   "provenance": []
  },
  "kernelspec": {
   "display_name": "Python 3.10.1 64-bit",
   "language": "python",
   "name": "python3"
  },
  "language_info": {
   "codemirror_mode": {
    "name": "ipython",
    "version": 3
   },
   "file_extension": ".py",
   "mimetype": "text/x-python",
   "name": "python",
   "nbconvert_exporter": "python",
   "pygments_lexer": "ipython3",
   "version": "3.10.1"
  },
  "vscode": {
   "interpreter": {
    "hash": "bdde48edf595d74e766d2baeab32fc84f0212bce326228bd1d9a4e898319ad7a"
   }
  }
 },
 "nbformat": 4,
 "nbformat_minor": 1
}
